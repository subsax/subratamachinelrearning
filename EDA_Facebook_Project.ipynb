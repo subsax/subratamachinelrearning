{
 "cells": [
  {
   "cell_type": "code",
   "execution_count": 1,
   "metadata": {},
   "outputs": [],
   "source": [
    "Dataset_path=\"D:/Projects_Analytics/EDA/Project_5_Facebook_data/pseudo_facebook.tsv\"\n"
   ]
  },
  {
   "cell_type": "code",
   "execution_count": 2,
   "metadata": {},
   "outputs": [],
   "source": [
    "import numpy as np\n",
    "import pandas as pd\n"
   ]
  },
  {
   "cell_type": "code",
   "execution_count": 4,
   "metadata": {},
   "outputs": [],
   "source": [
    "Dataset_fb=pd.read_csv(Dataset_path,sep='\\t')\n"
   ]
  },
  {
   "cell_type": "code",
   "execution_count": 5,
   "metadata": {},
   "outputs": [
    {
     "name": "stdout",
     "output_type": "stream",
     "text": [
      "<class 'pandas.core.frame.DataFrame'>\n",
      "RangeIndex: 99003 entries, 0 to 99002\n",
      "Data columns (total 15 columns):\n",
      "userid                   99003 non-null int64\n",
      "age                      99003 non-null int64\n",
      "dob_day                  99003 non-null int64\n",
      "dob_year                 99003 non-null int64\n",
      "dob_month                99003 non-null int64\n",
      "gender                   98828 non-null object\n",
      "tenure                   99001 non-null float64\n",
      "friend_count             99003 non-null int64\n",
      "friendships_initiated    99003 non-null int64\n",
      "likes                    99003 non-null int64\n",
      "likes_received           99003 non-null int64\n",
      "mobile_likes             99003 non-null int64\n",
      "mobile_likes_received    99003 non-null int64\n",
      "www_likes                99003 non-null int64\n",
      "www_likes_received       99003 non-null int64\n",
      "dtypes: float64(1), int64(13), object(1)\n",
      "memory usage: 11.0+ MB\n"
     ]
    }
   ],
   "source": [
    "Dataset_fb.info()"
   ]
  },
  {
   "cell_type": "code",
   "execution_count": null,
   "metadata": {},
   "outputs": [],
   "source": [
    "Dataset_fb.head(5)"
   ]
  },
  {
   "cell_type": "code",
   "execution_count": null,
   "metadata": {},
   "outputs": [],
   "source": [
    "Dataset_fb.describe()"
   ]
  },
  {
   "cell_type": "code",
   "execution_count": null,
   "metadata": {},
   "outputs": [],
   "source": [
    "Dataset_fb.isnull().values.any()"
   ]
  },
  {
   "cell_type": "code",
   "execution_count": null,
   "metadata": {},
   "outputs": [],
   "source": [
    "Dataset_fb.isnull().sum()"
   ]
  },
  {
   "cell_type": "code",
   "execution_count": null,
   "metadata": {},
   "outputs": [],
   "source": [
    "Dataset_fb['gender'].value_counts()"
   ]
  },
  {
   "cell_type": "code",
   "execution_count": null,
   "metadata": {},
   "outputs": [],
   "source": [
    "Dataset_fb['gender'] = Dataset_fb['gender'].fillna(Dataset_fb['gender'].mode()[0])"
   ]
  },
  {
   "cell_type": "code",
   "execution_count": null,
   "metadata": {},
   "outputs": [],
   "source": [
    "Dataset_fb.hist('tenure',bins=50)"
   ]
  },
  {
   "cell_type": "code",
   "execution_count": null,
   "metadata": {},
   "outputs": [],
   "source": [
    "Dataset_fb['tenure']=Dataset_fb['tenure'].fillna(Dataset_fb['tenure'].median())"
   ]
  },
  {
   "cell_type": "code",
   "execution_count": null,
   "metadata": {},
   "outputs": [],
   "source": [
    "import seaborn as sns"
   ]
  },
  {
   "cell_type": "code",
   "execution_count": null,
   "metadata": {},
   "outputs": [],
   "source": [
    "Age_Gender = sns.boxplot(x=\"gender\", y=\"age\", data=Dataset_fb)"
   ]
  },
  {
   "cell_type": "code",
   "execution_count": null,
   "metadata": {},
   "outputs": [],
   "source": [
    "tenure_Gender = sns.boxplot(x=\"gender\", y=\"tenure\", data=Dataset_fb)"
   ]
  },
  {
   "cell_type": "code",
   "execution_count": null,
   "metadata": {},
   "outputs": [],
   "source": [
    "Friendcount_gender_boxplot=sns.boxplot(x=\"gender\", y=\"friend_count\", data=Dataset_fb)"
   ]
  },
  {
   "cell_type": "code",
   "execution_count": null,
   "metadata": {},
   "outputs": [],
   "source": [
    "Friendcount_gender_barplot=sns.boxplot(x=\"gender\", y=\"dob_year\", data=Dataset_fb)"
   ]
  },
  {
   "cell_type": "code",
   "execution_count": null,
   "metadata": {
    "scrolled": true
   },
   "outputs": [],
   "source": [
    "import matplotlib.pyplot as plt\n",
    "Dataset_fb.hist('dob_year',bins=50)"
   ]
  },
  {
   "cell_type": "code",
   "execution_count": null,
   "metadata": {},
   "outputs": [],
   "source": [
    "Dataset_fb.hist('friend_count',bins=50)"
   ]
  },
  {
   "cell_type": "code",
   "execution_count": null,
   "metadata": {},
   "outputs": [],
   "source": [
    "Friendcount_gender_barplot=sns.barplot(x=\"gender\", y=\"friend_count\", data=Dataset_fb)"
   ]
  },
  {
   "cell_type": "code",
   "execution_count": null,
   "metadata": {},
   "outputs": [],
   "source": [
    "Likesreceived_gender_barplot=sns.barplot(x=\"gender\", y=\"likes_received\", data=Dataset_fb)"
   ]
  },
  {
   "cell_type": "code",
   "execution_count": null,
   "metadata": {},
   "outputs": [],
   "source": [
    "likes_gender_barplot=sns.barplot(x=\"gender\", y=\"likes\", data=Dataset_fb)"
   ]
  },
  {
   "cell_type": "code",
   "execution_count": null,
   "metadata": {},
   "outputs": [],
   "source": [
    "friendshipsintiated_Gender = sns.barplot(x=\"gender\", y=\"friendships_initiated\", data=Dataset_fb)"
   ]
  },
  {
   "cell_type": "code",
   "execution_count": null,
   "metadata": {},
   "outputs": [],
   "source": [
    "labels = ['1900-1909', '1910-1919', '1920-1929', '1930-1939', '1940-1949', '1950-1959', '1960-1969', '1970-1979','1980-1989','1990-1999','2000-2010']\n",
    "Dataset_fb['dob_yeargrp'] = pd.cut(Dataset_fb.dob_year, bins=11, labels=labels)\n",
    "Dataset_fb['dob_yeargrp'] "
   ]
  },
  {
   "cell_type": "code",
   "execution_count": null,
   "metadata": {},
   "outputs": [],
   "source": [
    "Dataset_fb.groupby('dob_yeargrp').agg({'tenure': [np.size,np.median,np.mean]})"
   ]
  },
  {
   "cell_type": "code",
   "execution_count": null,
   "metadata": {},
   "outputs": [],
   "source": [
    "Dataset_fb.groupby('dob_yeargrp').agg({'friend_count': [np.size,np.median,np.mean]})"
   ]
  },
  {
   "cell_type": "code",
   "execution_count": null,
   "metadata": {},
   "outputs": [],
   "source": [
    "Dataset_fb.groupby('dob_yeargrp').agg({'likes': [np.size,np.median,np.mean]})"
   ]
  },
  {
   "cell_type": "code",
   "execution_count": null,
   "metadata": {},
   "outputs": [],
   "source": [
    "labels = ['10-19', '20-29', '30-39', '40-49','50-59', '60-69', '70-79','80-89','90-99','100-109','110-120']\n",
    "Dataset_fb['age_grp'] = pd.cut(Dataset_fb.age, bins=11, labels=labels)\n",
    "Dataset_fb['age_grp'] "
   ]
  },
  {
   "cell_type": "code",
   "execution_count": null,
   "metadata": {},
   "outputs": [],
   "source": [
    "Dataset_fb.groupby('age_grp').agg({'friend_count': [np.size,np.median,np.mean]})"
   ]
  },
  {
   "cell_type": "code",
   "execution_count": null,
   "metadata": {},
   "outputs": [],
   "source": [
    "Dataset_fb.groupby('age_grp').agg({'tenure': [np.size,np.median,np.mean]})"
   ]
  },
  {
   "cell_type": "code",
   "execution_count": null,
   "metadata": {},
   "outputs": [],
   "source": [
    "Dataset_fb.corr()"
   ]
  },
  {
   "cell_type": "code",
   "execution_count": null,
   "metadata": {},
   "outputs": [],
   "source": [
    "ax1=Dataset_fb.plot.scatter(x='friendships_initiated',y='friend_count',c='DarkBlue')"
   ]
  },
  {
   "cell_type": "code",
   "execution_count": null,
   "metadata": {},
   "outputs": [],
   "source": []
  }
 ],
 "metadata": {
  "kernelspec": {
   "display_name": "Python 3",
   "language": "python",
   "name": "python3"
  },
  "language_info": {
   "codemirror_mode": {
    "name": "ipython",
    "version": 3
   },
   "file_extension": ".py",
   "mimetype": "text/x-python",
   "name": "python",
   "nbconvert_exporter": "python",
   "pygments_lexer": "ipython3",
   "version": "3.6.4"
  }
 },
 "nbformat": 4,
 "nbformat_minor": 2
}
